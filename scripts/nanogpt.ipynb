{
 "cells": [
  {
   "cell_type": "markdown",
   "id": "5cd469f8",
   "metadata": {},
   "source": [
    "# Building custom Nano GPT"
   ]
  },
  {
   "cell_type": "code",
   "execution_count": 10,
   "id": "7c714694",
   "metadata": {},
   "outputs": [],
   "source": [
    "import torch"
   ]
  },
  {
   "cell_type": "code",
   "execution_count": 7,
   "id": "a062638b",
   "metadata": {},
   "outputs": [
    {
     "name": "stdout",
     "output_type": "stream",
     "text": [
      "First Citizen:\n",
      "Before we proceed any further, hear me speak.\n",
      "\n",
      "All:\n",
      "Speak, speak.\n",
      "\n",
      "First Citizen:\n",
      "You are all resolved rather to die than to famish?\n",
      "\n",
      "All:\n",
      "Resolved. resolved.\n",
      "\n",
      "First Citizen:\n",
      "First, you know Caius Marcius is chief enemy to the people.\n",
      "\n",
      "All:\n",
      "We know't, we know't.\n",
      "\n",
      "First Citizen:\n",
      "Let us kill him, and we'll have corn at our own price.\n",
      "Is't a verdict?\n",
      "\n",
      "All:\n",
      "No more talking on't; let it be done: away, away!\n",
      "\n",
      "Second Citizen:\n",
      "One word, good citizens.\n",
      "\n",
      "First Citizen:\n",
      "We are accounted poor citizens, the patricians good.\n",
      "What authority surfeits on would relieve us: if they\n",
      "would yield us but the superfluity, while it were\n",
      "wholesome, we might guess they relieved us humanely;\n",
      "but they think we are too dear: the leanness that\n",
      "afflicts us, the object of our misery, is as an\n",
      "inventory to particularise their abundance; our\n",
      "sufferance is a gain to them Let us revenge this with\n",
      "our pikes, ere we become rakes: for the gods know I\n",
      "speak this in hunger for bread, not in thirst for revenge.\n",
      "\n",
      "\n",
      "\n",
      " !$&',-.3:;?ABCDEFGHIJKLMNOPQRSTUVWXYZabcdefghijklmnopqrstuvwxyz\n",
      "65\n"
     ]
    }
   ],
   "source": [
    "with open(\"../data/input.txt\", \"r\") as f:\n",
    "    text = f.read()\n",
    "\n",
    "print(text[:1000])\n",
    "\n",
    "chars = sorted(list(set(text)))\n",
    "vocab_size = len(chars)\n",
    "print(''.join(chars)) # 65 possible characters for model\n",
    "print(vocab_size)"
   ]
  },
  {
   "cell_type": "code",
   "execution_count": 25,
   "id": "8627ea11",
   "metadata": {},
   "outputs": [
    {
     "data": {
      "text/plain": [
       "([46, 47, 47, 1, 58, 46, 43, 56, 43], 'hii there')"
      ]
     },
     "execution_count": 25,
     "metadata": {},
     "output_type": "execute_result"
    }
   ],
   "source": [
    "# encoding and decoding strings\n",
    "stoi = {ch:i for i, ch in enumerate(chars)}\n",
    "itos = {i:ch for i, ch in enumerate(chars)}\n",
    "\n",
    "encode = lambda s: [stoi[c] for c in s]\n",
    "decode = lambda l: ''.join([itos[i] for i in l])\n",
    "encode(\"hii there\"), decode(encode(\"hii there\"))\n",
    "\n"
   ]
  },
  {
   "cell_type": "code",
   "execution_count": 12,
   "id": "4a899b9e",
   "metadata": {},
   "outputs": [
    {
     "name": "stdout",
     "output_type": "stream",
     "text": [
      "torch.Size([1115394]) torch.int64 tensor([18, 47, 56, 57, 58,  1, 15, 47, 58, 47, 64, 43, 52, 10,  0, 14, 43, 44,\n",
      "        53, 56, 43,  1, 61, 43,  1, 54, 56, 53, 41, 43, 43, 42,  1, 39, 52, 63,\n",
      "         1, 44, 59, 56, 58, 46, 43, 56,  6,  1, 46, 43, 39, 56,  1, 51, 43,  1,\n",
      "        57, 54, 43, 39, 49,  8,  0,  0, 13, 50, 50, 10,  0, 31, 54, 43, 39, 49,\n",
      "         6,  1, 57, 54, 43, 39, 49,  8,  0,  0, 18, 47, 56, 57, 58,  1, 15, 47,\n",
      "        58, 47, 64, 43, 52, 10,  0, 37, 53, 59,  1, 39, 56, 43,  1, 39, 50, 50,\n",
      "         1, 56, 43, 57, 53, 50, 60, 43, 42,  1, 56, 39, 58, 46, 43, 56,  1, 58,\n",
      "        53,  1, 42, 47, 43,  1, 58, 46, 39, 52,  1, 58, 53,  1, 44, 39, 51, 47,\n",
      "        57, 46, 12,  0,  0, 13, 50, 50, 10,  0, 30, 43, 57, 53, 50, 60, 43, 42,\n",
      "         8,  1, 56, 43, 57, 53, 50, 60, 43, 42,  8,  0,  0, 18, 47, 56, 57, 58,\n",
      "         1, 15, 47, 58, 47, 64, 43, 52, 10,  0, 18, 47, 56, 57, 58,  6,  1, 63,\n",
      "        53, 59,  1, 49, 52, 53, 61,  1, 15, 39, 47, 59, 57,  1, 25, 39, 56, 41,\n",
      "        47, 59, 57,  1, 47, 57,  1, 41, 46, 47, 43, 44,  1, 43, 52, 43, 51, 63,\n",
      "         1, 58, 53,  1, 58, 46, 43,  1, 54, 43, 53, 54, 50, 43,  8,  0,  0, 13,\n",
      "        50, 50, 10,  0, 35, 43,  1, 49, 52, 53, 61,  5, 58,  6,  1, 61, 43,  1,\n",
      "        49, 52, 53, 61,  5, 58,  8,  0,  0, 18, 47, 56, 57, 58,  1, 15, 47, 58,\n",
      "        47, 64, 43, 52, 10,  0, 24, 43, 58,  1, 59, 57,  1, 49, 47, 50, 50,  1,\n",
      "        46, 47, 51,  6,  1, 39, 52, 42,  1, 61, 43,  5, 50, 50,  1, 46, 39, 60,\n",
      "        43,  1, 41, 53, 56, 52,  1, 39, 58,  1, 53, 59, 56,  1, 53, 61, 52,  1,\n",
      "        54, 56, 47, 41, 43,  8,  0, 21, 57,  5, 58,  1, 39,  1, 60, 43, 56, 42,\n",
      "        47, 41, 58, 12,  0,  0, 13, 50, 50, 10,  0, 26, 53,  1, 51, 53, 56, 43,\n",
      "         1, 58, 39, 50, 49, 47, 52, 45,  1, 53, 52,  5, 58, 11,  1, 50, 43, 58,\n",
      "         1, 47, 58,  1, 40, 43,  1, 42, 53, 52, 43, 10,  1, 39, 61, 39, 63,  6,\n",
      "         1, 39, 61, 39, 63,  2,  0,  0, 31, 43, 41, 53, 52, 42,  1, 15, 47, 58,\n",
      "        47, 64, 43, 52, 10,  0, 27, 52, 43,  1, 61, 53, 56, 42,  6,  1, 45, 53,\n",
      "        53, 42,  1, 41, 47, 58, 47, 64, 43, 52, 57,  8,  0,  0, 18, 47, 56, 57,\n",
      "        58,  1, 15, 47, 58, 47, 64, 43, 52, 10,  0, 35, 43,  1, 39, 56, 43,  1,\n",
      "        39, 41, 41, 53, 59, 52, 58, 43, 42,  1, 54, 53, 53, 56,  1, 41, 47, 58,\n",
      "        47, 64, 43, 52, 57,  6,  1, 58, 46, 43,  1, 54, 39, 58, 56, 47, 41, 47,\n",
      "        39, 52, 57,  1, 45, 53, 53, 42,  8,  0, 35, 46, 39, 58,  1, 39, 59, 58,\n",
      "        46, 53, 56, 47, 58, 63,  1, 57, 59, 56, 44, 43, 47, 58, 57,  1, 53, 52,\n",
      "         1, 61, 53, 59, 50, 42,  1, 56, 43, 50, 47, 43, 60, 43,  1, 59, 57, 10,\n",
      "         1, 47, 44,  1, 58, 46, 43, 63,  0, 61, 53, 59, 50, 42,  1, 63, 47, 43,\n",
      "        50, 42,  1, 59, 57,  1, 40, 59, 58,  1, 58, 46, 43,  1, 57, 59, 54, 43,\n",
      "        56, 44, 50, 59, 47, 58, 63,  6,  1, 61, 46, 47, 50, 43,  1, 47, 58,  1,\n",
      "        61, 43, 56, 43,  0, 61, 46, 53, 50, 43, 57, 53, 51, 43,  6,  1, 61, 43,\n",
      "         1, 51, 47, 45, 46, 58,  1, 45, 59, 43, 57, 57,  1, 58, 46, 43, 63,  1,\n",
      "        56, 43, 50, 47, 43, 60, 43, 42,  1, 59, 57,  1, 46, 59, 51, 39, 52, 43,\n",
      "        50, 63, 11,  0, 40, 59, 58,  1, 58, 46, 43, 63,  1, 58, 46, 47, 52, 49,\n",
      "         1, 61, 43,  1, 39, 56, 43,  1, 58, 53, 53,  1, 42, 43, 39, 56, 10,  1,\n",
      "        58, 46, 43,  1, 50, 43, 39, 52, 52, 43, 57, 57,  1, 58, 46, 39, 58,  0,\n",
      "        39, 44, 44, 50, 47, 41, 58, 57,  1, 59, 57,  6,  1, 58, 46, 43,  1, 53,\n",
      "        40, 48, 43, 41, 58,  1, 53, 44,  1, 53, 59, 56,  1, 51, 47, 57, 43, 56,\n",
      "        63,  6,  1, 47, 57,  1, 39, 57,  1, 39, 52,  0, 47, 52, 60, 43, 52, 58,\n",
      "        53, 56, 63,  1, 58, 53,  1, 54, 39, 56, 58, 47, 41, 59, 50, 39, 56, 47,\n",
      "        57, 43,  1, 58, 46, 43, 47, 56,  1, 39, 40, 59, 52, 42, 39, 52, 41, 43,\n",
      "        11,  1, 53, 59, 56,  0, 57, 59, 44, 44, 43, 56, 39, 52, 41, 43,  1, 47,\n",
      "        57,  1, 39,  1, 45, 39, 47, 52,  1, 58, 53,  1, 58, 46, 43, 51,  1, 24,\n",
      "        43, 58,  1, 59, 57,  1, 56, 43, 60, 43, 52, 45, 43,  1, 58, 46, 47, 57,\n",
      "         1, 61, 47, 58, 46,  0, 53, 59, 56,  1, 54, 47, 49, 43, 57,  6,  1, 43,\n",
      "        56, 43,  1, 61, 43,  1, 40, 43, 41, 53, 51, 43,  1, 56, 39, 49, 43, 57,\n",
      "        10,  1, 44, 53, 56,  1, 58, 46, 43,  1, 45, 53, 42, 57,  1, 49, 52, 53,\n",
      "        61,  1, 21,  0, 57, 54, 43, 39, 49,  1, 58, 46, 47, 57,  1, 47, 52,  1,\n",
      "        46, 59, 52, 45, 43, 56,  1, 44, 53, 56,  1, 40, 56, 43, 39, 42,  6,  1,\n",
      "        52, 53, 58,  1, 47, 52,  1, 58, 46, 47, 56, 57, 58,  1, 44, 53, 56,  1,\n",
      "        56, 43, 60, 43, 52, 45, 43,  8,  0,  0])\n"
     ]
    }
   ],
   "source": [
    "## applying encoding to the entire dataset\n",
    "data = torch.tensor(encode(text), dtype=torch.long)\n",
    "print(data.shape, data.dtype, data[:1000])"
   ]
  },
  {
   "cell_type": "code",
   "execution_count": 13,
   "id": "f7e6007f",
   "metadata": {},
   "outputs": [],
   "source": [
    "n = int(0.9*len(data))\n",
    "train_data = data[:n]\n",
    "val_data = data[n:]"
   ]
  },
  {
   "cell_type": "code",
   "execution_count": 15,
   "id": "7ad3b5bd",
   "metadata": {},
   "outputs": [
    {
     "name": "stdout",
     "output_type": "stream",
     "text": [
      "When input is tensor([18]), the target is 47\n",
      "When input is tensor([18, 47]), the target is 56\n",
      "When input is tensor([18, 47, 56]), the target is 57\n",
      "When input is tensor([18, 47, 56, 57]), the target is 58\n",
      "When input is tensor([18, 47, 56, 57, 58]), the target is 1\n",
      "When input is tensor([18, 47, 56, 57, 58,  1]), the target is 15\n",
      "When input is tensor([18, 47, 56, 57, 58,  1, 15]), the target is 47\n",
      "When input is tensor([18, 47, 56, 57, 58,  1, 15, 47]), the target is 58\n"
     ]
    }
   ],
   "source": [
    "block_size = 8\n",
    "x = train_data[:block_size]\n",
    "y = train_data[1:block_size+1]\n",
    "for t in range(block_size):\n",
    "    context = x[:t+1]\n",
    "    target = y[t]\n",
    "    print(f'When input is {context}, the target is {target}')\n"
   ]
  },
  {
   "cell_type": "code",
   "execution_count": 17,
   "id": "e4c55be6",
   "metadata": {},
   "outputs": [
    {
     "name": "stdout",
     "output_type": "stream",
     "text": [
      "--------- training data ---------\n",
      "inputs shape: torch.Size([4, 8]), inputs: tensor([[24, 43, 58,  5, 57,  1, 46, 43],\n",
      "        [44, 53, 56,  1, 58, 46, 39, 58],\n",
      "        [52, 58,  1, 58, 46, 39, 58,  1],\n",
      "        [25, 17, 27, 10,  0, 21,  1, 54]])\n",
      "targets shape: torch.Size([4, 8]), targets: tensor([[43, 58,  5, 57,  1, 46, 43, 39],\n",
      "        [53, 56,  1, 58, 46, 39, 58,  1],\n",
      "        [58,  1, 58, 46, 39, 58,  1, 46],\n",
      "        [17, 27, 10,  0, 21,  1, 54, 39]])\n",
      "When input is tensor([24]), the target is 43\n",
      "When input is tensor([24, 43]), the target is 58\n",
      "When input is tensor([24, 43, 58]), the target is 5\n",
      "When input is tensor([24, 43, 58,  5]), the target is 57\n",
      "When input is tensor([24, 43, 58,  5, 57]), the target is 1\n",
      "When input is tensor([24, 43, 58,  5, 57,  1]), the target is 46\n",
      "When input is tensor([24, 43, 58,  5, 57,  1, 46]), the target is 43\n",
      "When input is tensor([24, 43, 58,  5, 57,  1, 46, 43]), the target is 39\n",
      "When input is tensor([44]), the target is 53\n",
      "When input is tensor([44, 53]), the target is 56\n",
      "When input is tensor([44, 53, 56]), the target is 1\n",
      "When input is tensor([44, 53, 56,  1]), the target is 58\n",
      "When input is tensor([44, 53, 56,  1, 58]), the target is 46\n",
      "When input is tensor([44, 53, 56,  1, 58, 46]), the target is 39\n",
      "When input is tensor([44, 53, 56,  1, 58, 46, 39]), the target is 58\n",
      "When input is tensor([44, 53, 56,  1, 58, 46, 39, 58]), the target is 1\n",
      "When input is tensor([52]), the target is 58\n",
      "When input is tensor([52, 58]), the target is 1\n",
      "When input is tensor([52, 58,  1]), the target is 58\n",
      "When input is tensor([52, 58,  1, 58]), the target is 46\n",
      "When input is tensor([52, 58,  1, 58, 46]), the target is 39\n",
      "When input is tensor([52, 58,  1, 58, 46, 39]), the target is 58\n",
      "When input is tensor([52, 58,  1, 58, 46, 39, 58]), the target is 1\n",
      "When input is tensor([52, 58,  1, 58, 46, 39, 58,  1]), the target is 46\n",
      "When input is tensor([25]), the target is 17\n",
      "When input is tensor([25, 17]), the target is 27\n",
      "When input is tensor([25, 17, 27]), the target is 10\n",
      "When input is tensor([25, 17, 27, 10]), the target is 0\n",
      "When input is tensor([25, 17, 27, 10,  0]), the target is 21\n",
      "When input is tensor([25, 17, 27, 10,  0, 21]), the target is 1\n",
      "When input is tensor([25, 17, 27, 10,  0, 21,  1]), the target is 54\n",
      "When input is tensor([25, 17, 27, 10,  0, 21,  1, 54]), the target is 39\n"
     ]
    }
   ],
   "source": [
    "## Generalising it to get batches of data in parallel\n",
    "torch.manual_seed(1337)\n",
    "batch_size = 4 # How many independent sequences will we process in parallel?\n",
    "block_size = 8 # What is the maximum context length for predictions?\n",
    "\n",
    "def get_batch(split: str)->tuple[torch.Tensor, torch.Tensor]:\n",
    "    data = train_data if split == 'train' else val_data\n",
    "    ix = torch.randint(len(data) - block_size, (batch_size,))\n",
    "    x = torch.stack([data[i:i+block_size] for i in ix])\n",
    "    y = torch.stack([data[i+1:i+block_size+1] for i in ix])\n",
    "    return x, y\n",
    "\n",
    "xb, yb = get_batch('train')\n",
    "print(f'--------- training data ---------')\n",
    "print(f'inputs shape: {xb.shape}, inputs: {xb}')\n",
    "print(f'targets shape: {yb.shape}, targets: {yb}')\n",
    "\n",
    "for b in range(batch_size):\n",
    "    for t in range(block_size):\n",
    "        context = xb[b, :t+1]\n",
    "        target = yb[b, t]\n",
    "        print(f'When input is {context}, the target is {target}')"
   ]
  },
  {
   "cell_type": "code",
   "execution_count": 32,
   "id": "b3b08978",
   "metadata": {},
   "outputs": [
    {
     "name": "stdout",
     "output_type": "stream",
     "text": [
      "torch.Size([32, 65])\n",
      "loss: 5.152285575866699\n",
      "\n",
      "QhL-HuDhoRNnwaeeI$Otzuuj&q:aZKa.tFwaauP:XRfx;'wmrcb:XCJlU'JM-kGPlOoQn!Rknx.L?eYUCq?!3y.vEL;Hrsftaur \n"
     ]
    }
   ],
   "source": [
    "# Create a super simple Bigram language model\n",
    "import torch.nn as nn\n",
    "import torch.nn.functional as F\n",
    "\n",
    "class BigramLanguageModel(nn.Module):\n",
    "    def __init__(self, vocab_size):\n",
    "        super().__init__()\n",
    "        self.token_embedding_table = nn.Embedding(vocab_size, vocab_size)\n",
    "        \n",
    "    def forward(self, idx:torch.Tensor, targets:torch.Tensor=None)->tuple[torch.Tensor, torch.Tensor|None]:\n",
    "        logits = self.token_embedding_table(idx) # (B,T,C) (Batch, Time, Channel)\n",
    "        ## Pytorch expects inputs to be (B, C, T)\n",
    "       \n",
    "        if targets is None:\n",
    "            loss = None\n",
    "        else:\n",
    "            B, T, C = logits.shape\n",
    "            logits = logits.view(B*T, C)\n",
    "            targets = targets.view(B*T)\n",
    "            loss = F.cross_entropy(logits, targets)\n",
    "        \n",
    "        return logits, loss\n",
    "    \n",
    "    def generate(self, idx:torch.Tensor, max_new_tokens:int)->torch.Tensor:\n",
    "        # idx is (B, T) array of indices in the current context\n",
    "        for _ in range(max_new_tokens):\n",
    "            logits, loss = self(idx)\n",
    "            # focus only on the last time step\n",
    "            logits = logits[:,-1,:] # becomes (B, C)\n",
    "            # apply softmax to get probabilities\n",
    "            probs = F.softmax(logits, dim=-1) # (B, C)\n",
    "            # sample from the distribution\n",
    "            idx_next = torch.multinomial(probs, num_samples = 1) # (B,1)\n",
    "            idx = torch.cat((idx, idx_next), dim=1) # (B, T+1)\n",
    "        return idx\n",
    "            \n",
    "\n",
    "bigram_model = BigramLanguageModel(vocab_size)\n",
    "logits, loss = bigram_model(xb, yb)\n",
    "print(logits.shape)\n",
    "print(f'loss: {loss}')\n",
    "idx =torch.zeros((1,1), dtype=torch.long)\n",
    "print(decode(bigram_model.generate(idx=idx, max_new_tokens=100)[0].tolist()))"
   ]
  },
  {
   "cell_type": "code",
   "execution_count": 33,
   "id": "d2e960b6",
   "metadata": {},
   "outputs": [],
   "source": [
    "# using adam optimizer for our model\n",
    "optimizer = torch.optim.AdamW(bigram_model.parameters(), lr = 1e-3)"
   ]
  },
  {
   "cell_type": "code",
   "execution_count": 35,
   "id": "60d55ff5",
   "metadata": {},
   "outputs": [
    {
     "name": "stdout",
     "output_type": "stream",
     "text": [
      "2.4560248851776123\n"
     ]
    }
   ],
   "source": [
    "batch_size = 32\n",
    "for steps in range(10000):\n",
    "    Xb, Yb = get_batch('train')\n",
    "    logits, loss = bigram_model(Xb, Yb)\n",
    "    optimizer.zero_grad(set_to_none=True)\n",
    "    loss.backward()\n",
    "    optimizer.step()\n",
    "\n",
    "\n",
    "print(loss.item())"
   ]
  },
  {
   "cell_type": "code",
   "execution_count": 38,
   "id": "d5c5021a",
   "metadata": {},
   "outputs": [
    {
     "name": "stdout",
     "output_type": "stream",
     "text": [
      "\n",
      "Thooncore,\n",
      "An wis ne madentathelers Lordd sinqucee, p\n",
      "epr\n",
      "I'G y nd myethat gor, totaucaticos d t fomorce\n",
      "TESo!\n",
      "TENOMET:\n",
      "KENCUCa seis\n",
      "Sowhiforraty:\n",
      "Yels;\n",
      "Nucare but thal mamndy erkspitrouie per'\n",
      "Tome ring spr thionousthit fr f sin?\n",
      "\n",
      "Anhipe oRNISwourisprd INCLEard hered tere, weartoowhed hen ffr inay \n"
     ]
    }
   ],
   "source": [
    "print(decode(bigram_model.generate(idx=idx, max_new_tokens=300)[0].tolist()))"
   ]
  },
  {
   "cell_type": "markdown",
   "id": "8942713f",
   "metadata": {},
   "source": [
    "# Self Attention\n",
    "- For attention, the token at t can't talk to any tokens from t+1 to n. It can only talk to tokens from index 0 to t(including t)\n",
    "- Easiest way to add attention:\n",
    "    - We avg everything upto and including the current index. This becomes a feature vector that (summarises current index token wrt it's history)to the model. It's super lossy and we loose a ton of information.\n",
    "    - To make this more efficient than using two for loops, we can use a lower traingular matrix and multiply it with our matrix of tokens\n",
    "    - Third and also efficient way is to use softmax"
   ]
  },
  {
   "cell_type": "code",
   "execution_count": 39,
   "id": "be9dcb03",
   "metadata": {},
   "outputs": [],
   "source": [
    "B,T,C = 4,8,2\n",
    "x = torch.randn(B,T,C)"
   ]
  },
  {
   "cell_type": "code",
   "execution_count": 44,
   "id": "c51890f2",
   "metadata": {},
   "outputs": [],
   "source": [
    "## Mathematical trick used in self attention\n",
    "## This is super inefficient, but a good starting point\n",
    "xbow = torch.zeros((B,T,C))\n",
    "for b in range(B):\n",
    "    for t in range(T):\n",
    "        xprev = x[b, :t+1]\n",
    "        xbow[b,t] = torch.mean(xprev,0)"
   ]
  },
  {
   "cell_type": "code",
   "execution_count": 42,
   "id": "e26b3dd4",
   "metadata": {},
   "outputs": [
    {
     "data": {
      "text/plain": [
       "tensor([[-0.8554,  1.0345],\n",
       "        [-0.3082,  0.1738],\n",
       "        [-0.6142, -1.1057],\n",
       "        [-0.7136, -0.1107],\n",
       "        [-1.6504,  0.5479],\n",
       "        [-0.6868, -1.3893],\n",
       "        [-0.7580,  0.3641],\n",
       "        [-1.1333, -1.5686]])"
      ]
     },
     "execution_count": 42,
     "metadata": {},
     "output_type": "execute_result"
    }
   ],
   "source": [
    "x[0]"
   ]
  },
  {
   "cell_type": "code",
   "execution_count": 43,
   "id": "429c870e",
   "metadata": {},
   "outputs": [
    {
     "data": {
      "text/plain": [
       "tensor([[-0.8554,  1.0345],\n",
       "        [-0.5818,  0.6041],\n",
       "        [-0.5926,  0.0342],\n",
       "        [-0.6229, -0.0020],\n",
       "        [-0.8284,  0.1079],\n",
       "        [-0.8048, -0.1416],\n",
       "        [-0.7981, -0.0694],\n",
       "        [-0.8400, -0.2568]])"
      ]
     },
     "execution_count": 43,
     "metadata": {},
     "output_type": "execute_result"
    }
   ],
   "source": [
    "xbow[0]"
   ]
  },
  {
   "cell_type": "code",
   "execution_count": 45,
   "id": "f6efecab",
   "metadata": {},
   "outputs": [
    {
     "data": {
      "text/plain": [
       "tensor([[1.0000, 0.0000, 0.0000, 0.0000, 0.0000, 0.0000, 0.0000, 0.0000],\n",
       "        [0.5000, 0.5000, 0.0000, 0.0000, 0.0000, 0.0000, 0.0000, 0.0000],\n",
       "        [0.3333, 0.3333, 0.3333, 0.0000, 0.0000, 0.0000, 0.0000, 0.0000],\n",
       "        [0.2500, 0.2500, 0.2500, 0.2500, 0.0000, 0.0000, 0.0000, 0.0000],\n",
       "        [0.2000, 0.2000, 0.2000, 0.2000, 0.2000, 0.0000, 0.0000, 0.0000],\n",
       "        [0.1667, 0.1667, 0.1667, 0.1667, 0.1667, 0.1667, 0.0000, 0.0000],\n",
       "        [0.1429, 0.1429, 0.1429, 0.1429, 0.1429, 0.1429, 0.1429, 0.0000],\n",
       "        [0.1250, 0.1250, 0.1250, 0.1250, 0.1250, 0.1250, 0.1250, 0.1250]])"
      ]
     },
     "execution_count": 45,
     "metadata": {},
     "output_type": "execute_result"
    }
   ],
   "source": [
    "## A better way is to us matrix multiplication\n",
    "wts = torch.tril(torch.ones(T,T))\n",
    "wts/=wts.sum(1,keepdim=True)\n",
    "wts"
   ]
  },
  {
   "cell_type": "code",
   "execution_count": null,
   "id": "51f95b33",
   "metadata": {},
   "outputs": [
    {
     "data": {
      "text/plain": [
       "tensor([[[-0.8554,  1.0345],\n",
       "         [-0.5818,  0.6041],\n",
       "         [-0.5926,  0.0342],\n",
       "         [-0.6229, -0.0020],\n",
       "         [-0.8284,  0.1079],\n",
       "         [-0.8048, -0.1416],\n",
       "         [-0.7981, -0.0694],\n",
       "         [-0.8400, -0.2568]],\n",
       "\n",
       "        [[-1.1680,  1.2887],\n",
       "         [-0.1681,  0.4155],\n",
       "         [-0.4383,  0.3877],\n",
       "         [-0.5793,  0.3586],\n",
       "         [-0.3653,  0.0070],\n",
       "         [-0.1741, -0.0691],\n",
       "         [-0.0907,  0.0813],\n",
       "         [ 0.1746, -0.1572]],\n",
       "\n",
       "        [[ 0.3871,  0.0862],\n",
       "         [-0.5570,  0.2855],\n",
       "         [-0.6132,  0.1448],\n",
       "         [-0.3922,  0.0110],\n",
       "         [-0.4893,  0.1267],\n",
       "         [-0.3423,  0.0108],\n",
       "         [-0.3644, -0.1229],\n",
       "         [-0.6157, -0.1085]],\n",
       "\n",
       "        [[-0.4037,  0.9445],\n",
       "         [-0.2456,  0.5254],\n",
       "         [-0.4653,  0.0725],\n",
       "         [-0.8623, -0.0356],\n",
       "         [-0.6472, -0.2169],\n",
       "         [-0.4025, -0.1045],\n",
       "         [-0.4845, -0.0572],\n",
       "         [-0.3515, -0.1585]]])"
      ]
     },
     "execution_count": 47,
     "metadata": {},
     "output_type": "execute_result"
    }
   ],
   "source": [
    "xbow2 = wts @ x # (T,T) @ (B,T,C) -> (B,T,T) @ (B,T,C) -> (B,T,C)\n",
    "xbow2"
   ]
  },
  {
   "cell_type": "code",
   "execution_count": 48,
   "id": "8801e92c",
   "metadata": {},
   "outputs": [
    {
     "data": {
      "text/plain": [
       "True"
      ]
     },
     "execution_count": 48,
     "metadata": {},
     "output_type": "execute_result"
    }
   ],
   "source": [
    "# check if xbow2 is same as xbow\n",
    "torch.allclose(xbow, xbow2)"
   ]
  },
  {
   "cell_type": "code",
   "execution_count": null,
   "id": "5490c2de",
   "metadata": {},
   "outputs": [
    {
     "data": {
      "text/plain": [
       "tensor([[1.0000, 0.0000, 0.0000, 0.0000, 0.0000, 0.0000, 0.0000, 0.0000],\n",
       "        [0.5000, 0.5000, 0.0000, 0.0000, 0.0000, 0.0000, 0.0000, 0.0000],\n",
       "        [0.3333, 0.3333, 0.3333, 0.0000, 0.0000, 0.0000, 0.0000, 0.0000],\n",
       "        [0.2500, 0.2500, 0.2500, 0.2500, 0.0000, 0.0000, 0.0000, 0.0000],\n",
       "        [0.2000, 0.2000, 0.2000, 0.2000, 0.2000, 0.0000, 0.0000, 0.0000],\n",
       "        [0.1667, 0.1667, 0.1667, 0.1667, 0.1667, 0.1667, 0.0000, 0.0000],\n",
       "        [0.1429, 0.1429, 0.1429, 0.1429, 0.1429, 0.1429, 0.1429, 0.0000],\n",
       "        [0.1250, 0.1250, 0.1250, 0.1250, 0.1250, 0.1250, 0.1250, 0.1250]])"
      ]
     },
     "execution_count": 51,
     "metadata": {},
     "output_type": "execute_result"
    }
   ],
   "source": [
    "# version3: Using softmax\n",
    "tril = torch.tril(torch.ones(T,T))\n",
    "wts = torch.zeros((T,T)) # interaction strength/affinity between tokens. How much of the token from the past we want to aggregate\n",
    "wts = wts.masked_fill(tril==0, float('-inf')) # tokens from the future cannot communicate with the current token. By setting them to -inf, we're making sure we don't aggregate those tokens\n",
    "wts = F.softmax(wts, dim=-1) # normalise and sum to 1. The final weights are the attention weights. They tell us how much of the each of the past tokens fuses into the current token\n",
    "wts"
   ]
  },
  {
   "cell_type": "code",
   "execution_count": null,
   "id": "18f1cdf2",
   "metadata": {},
   "outputs": [],
   "source": []
  }
 ],
 "metadata": {
  "kernelspec": {
   "display_name": ".venv",
   "language": "python",
   "name": "python3"
  },
  "language_info": {
   "codemirror_mode": {
    "name": "ipython",
    "version": 3
   },
   "file_extension": ".py",
   "mimetype": "text/x-python",
   "name": "python",
   "nbconvert_exporter": "python",
   "pygments_lexer": "ipython3",
   "version": "3.12.11"
  }
 },
 "nbformat": 4,
 "nbformat_minor": 5
}
